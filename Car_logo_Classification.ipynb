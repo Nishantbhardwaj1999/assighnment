{
  "nbformat": 4,
  "nbformat_minor": 0,
  "metadata": {
    "colab": {
      "provenance": [],
      "authorship_tag": "ABX9TyNAT+7idvt79PiL96o8/ULN",
      "include_colab_link": true
    },
    "kernelspec": {
      "name": "python3",
      "display_name": "Python 3"
    },
    "language_info": {
      "name": "python"
    },
    "accelerator": "GPU",
    "gpuClass": "standard"
  },
  "cells": [
    {
      "cell_type": "markdown",
      "metadata": {
        "id": "view-in-github",
        "colab_type": "text"
      },
      "source": [
        "<a href=\"https://colab.research.google.com/github/Nishantbhardwaj1999/assighnment/blob/master/Car_logo_Classification.ipynb\" target=\"_parent\"><img src=\"https://colab.research.google.com/assets/colab-badge.svg\" alt=\"Open In Colab\"/></a>"
      ]
    },
    {
      "cell_type": "code",
      "execution_count": 1,
      "metadata": {
        "id": "OyXo2mlBBp3V"
      },
      "outputs": [],
      "source": [
        "import zipfile\n",
        "zip_ref = zipfile.ZipFile('/content/logo_data.zip', 'r')\n",
        "zip_ref.extractall('/content')\n",
        "zip_ref.close()"
      ]
    },
    {
      "cell_type": "code",
      "source": [
        "from tensorflow.keras.layers import Input, Lambda, Dense, Flatten\n",
        "from tensorflow.keras.models import Model\n",
        "from tensorflow.keras.applications.resnet50 import ResNet50\n",
        "#from keras.applications.vgg16 import VGG16\n",
        "from tensorflow.keras.applications.resnet50 import preprocess_input\n",
        "from tensorflow.keras.preprocessing import image\n",
        "from tensorflow.keras.preprocessing.image import ImageDataGenerator,load_img\n",
        "from tensorflow.keras.models import Sequential\n",
        "import numpy as np\n",
        "from glob import glob\n",
        "import matplotlib.pyplot as plt"
      ],
      "metadata": {
        "id": "oHfPvWoCCk04"
      },
      "execution_count": 2,
      "outputs": []
    },
    {
      "cell_type": "code",
      "source": [
        "# re-size all the images to this\n",
        "IMAGE_SIZE = [224, 224]\n",
        "\n",
        "train_path = '/content/logo_data/data/train'\n",
        "valid_path = '/content/logo_data/data/val'"
      ],
      "metadata": {
        "id": "Io8bFw0cLvXz"
      },
      "execution_count": 3,
      "outputs": []
    },
    {
      "cell_type": "code",
      "source": [
        "resnet = ResNet50(input_shape=IMAGE_SIZE + [3], weights='imagenet', include_top=False)"
      ],
      "metadata": {
        "colab": {
          "base_uri": "https://localhost:8080/"
        },
        "id": "bUqzDX2EL-RN",
        "outputId": "f50e4c7b-cbb6-49ca-8444-1432469c680b"
      },
      "execution_count": 4,
      "outputs": [
        {
          "output_type": "stream",
          "name": "stdout",
          "text": [
            "Downloading data from https://storage.googleapis.com/tensorflow/keras-applications/resnet/resnet50_weights_tf_dim_ordering_tf_kernels_notop.h5\n",
            "94765736/94765736 [==============================] - 5s 0us/step\n"
          ]
        }
      ]
    },
    {
      "cell_type": "code",
      "source": [
        "for layer in resnet.layers:\n",
        "    layer.trainable = False"
      ],
      "metadata": {
        "id": "qlTEA52BMXqu"
      },
      "execution_count": 5,
      "outputs": []
    },
    {
      "cell_type": "code",
      "source": [
        "folders = glob('/content/logo_data/data/train/*')"
      ],
      "metadata": {
        "id": "3JtcQ2TLM9hG"
      },
      "execution_count": 6,
      "outputs": []
    },
    {
      "cell_type": "code",
      "source": [
        "folders"
      ],
      "metadata": {
        "colab": {
          "base_uri": "https://localhost:8080/"
        },
        "id": "8FMSJFMBNUHl",
        "outputId": "62b8eb32-dd5f-4e9e-b353-21d30bd2f48a"
      },
      "execution_count": 7,
      "outputs": [
        {
          "output_type": "execute_result",
          "data": {
            "text/plain": [
              "['/content/logo_data/data/train/Fiat',\n",
              " '/content/logo_data/data/train/Skoda',\n",
              " '/content/logo_data/data/train/unknown',\n",
              " '/content/logo_data/data/train/Mercedes-Benz',\n",
              " '/content/logo_data/data/train/Honda',\n",
              " '/content/logo_data/data/train/Maruti-Suzuki',\n",
              " '/content/logo_data/data/train/BMW',\n",
              " '/content/logo_data/data/train/Audi',\n",
              " '/content/logo_data/data/train/Tata',\n",
              " '/content/logo_data/data/train/Nissan',\n",
              " '/content/logo_data/data/train/Renault',\n",
              " '/content/logo_data/data/train/Volkswagen',\n",
              " '/content/logo_data/data/train/Ford',\n",
              " '/content/logo_data/data/train/ISUZU',\n",
              " '/content/logo_data/data/train/Volvo',\n",
              " '/content/logo_data/data/train/Datsun',\n",
              " '/content/logo_data/data/train/Hyundai',\n",
              " '/content/logo_data/data/train/Jeep',\n",
              " '/content/logo_data/data/train/Mahindra',\n",
              " '/content/logo_data/data/train/MG',\n",
              " '/content/logo_data/data/train/Toyota',\n",
              " '/content/logo_data/data/train/Mitsubishi',\n",
              " '/content/logo_data/data/train/Kia',\n",
              " '/content/logo_data/data/train/Jaguar',\n",
              " '/content/logo_data/data/train/Chevrolet']"
            ]
          },
          "metadata": {},
          "execution_count": 7
        }
      ]
    },
    {
      "cell_type": "code",
      "source": [
        "# our layers - you can add more if you want\n",
        "x = Flatten()(resnet.output)"
      ],
      "metadata": {
        "id": "sBkcG9AzNVbK"
      },
      "execution_count": 8,
      "outputs": []
    },
    {
      "cell_type": "code",
      "source": [
        "prediction = Dense(len(folders), activation='softmax')(x)\n",
        "\n",
        "# create a model object\n",
        "model = Model(inputs=resnet.input, outputs=prediction)"
      ],
      "metadata": {
        "id": "vibbavgvNeJD"
      },
      "execution_count": 9,
      "outputs": []
    },
    {
      "cell_type": "code",
      "source": [
        "# view the structure of the model\n",
        "model.summary()"
      ],
      "metadata": {
        "colab": {
          "base_uri": "https://localhost:8080/"
        },
        "id": "3t3msNjLNlFy",
        "outputId": "591e478b-1c46-44d2-e5ae-d9f0c93a7008"
      },
      "execution_count": 10,
      "outputs": [
        {
          "output_type": "stream",
          "name": "stdout",
          "text": [
            "Model: \"model\"\n",
            "__________________________________________________________________________________________________\n",
            " Layer (type)                   Output Shape         Param #     Connected to                     \n",
            "==================================================================================================\n",
            " input_1 (InputLayer)           [(None, 224, 224, 3  0           []                               \n",
            "                                )]                                                                \n",
            "                                                                                                  \n",
            " conv1_pad (ZeroPadding2D)      (None, 230, 230, 3)  0           ['input_1[0][0]']                \n",
            "                                                                                                  \n",
            " conv1_conv (Conv2D)            (None, 112, 112, 64  9472        ['conv1_pad[0][0]']              \n",
            "                                )                                                                 \n",
            "                                                                                                  \n",
            " conv1_bn (BatchNormalization)  (None, 112, 112, 64  256         ['conv1_conv[0][0]']             \n",
            "                                )                                                                 \n",
            "                                                                                                  \n",
            " conv1_relu (Activation)        (None, 112, 112, 64  0           ['conv1_bn[0][0]']               \n",
            "                                )                                                                 \n",
            "                                                                                                  \n",
            " pool1_pad (ZeroPadding2D)      (None, 114, 114, 64  0           ['conv1_relu[0][0]']             \n",
            "                                )                                                                 \n",
            "                                                                                                  \n",
            " pool1_pool (MaxPooling2D)      (None, 56, 56, 64)   0           ['pool1_pad[0][0]']              \n",
            "                                                                                                  \n",
            " conv2_block1_1_conv (Conv2D)   (None, 56, 56, 64)   4160        ['pool1_pool[0][0]']             \n",
            "                                                                                                  \n",
            " conv2_block1_1_bn (BatchNormal  (None, 56, 56, 64)  256         ['conv2_block1_1_conv[0][0]']    \n",
            " ization)                                                                                         \n",
            "                                                                                                  \n",
            " conv2_block1_1_relu (Activatio  (None, 56, 56, 64)  0           ['conv2_block1_1_bn[0][0]']      \n",
            " n)                                                                                               \n",
            "                                                                                                  \n",
            " conv2_block1_2_conv (Conv2D)   (None, 56, 56, 64)   36928       ['conv2_block1_1_relu[0][0]']    \n",
            "                                                                                                  \n",
            " conv2_block1_2_bn (BatchNormal  (None, 56, 56, 64)  256         ['conv2_block1_2_conv[0][0]']    \n",
            " ization)                                                                                         \n",
            "                                                                                                  \n",
            " conv2_block1_2_relu (Activatio  (None, 56, 56, 64)  0           ['conv2_block1_2_bn[0][0]']      \n",
            " n)                                                                                               \n",
            "                                                                                                  \n",
            " conv2_block1_0_conv (Conv2D)   (None, 56, 56, 256)  16640       ['pool1_pool[0][0]']             \n",
            "                                                                                                  \n",
            " conv2_block1_3_conv (Conv2D)   (None, 56, 56, 256)  16640       ['conv2_block1_2_relu[0][0]']    \n",
            "                                                                                                  \n",
            " conv2_block1_0_bn (BatchNormal  (None, 56, 56, 256)  1024       ['conv2_block1_0_conv[0][0]']    \n",
            " ization)                                                                                         \n",
            "                                                                                                  \n",
            " conv2_block1_3_bn (BatchNormal  (None, 56, 56, 256)  1024       ['conv2_block1_3_conv[0][0]']    \n",
            " ization)                                                                                         \n",
            "                                                                                                  \n",
            " conv2_block1_add (Add)         (None, 56, 56, 256)  0           ['conv2_block1_0_bn[0][0]',      \n",
            "                                                                  'conv2_block1_3_bn[0][0]']      \n",
            "                                                                                                  \n",
            " conv2_block1_out (Activation)  (None, 56, 56, 256)  0           ['conv2_block1_add[0][0]']       \n",
            "                                                                                                  \n",
            " conv2_block2_1_conv (Conv2D)   (None, 56, 56, 64)   16448       ['conv2_block1_out[0][0]']       \n",
            "                                                                                                  \n",
            " conv2_block2_1_bn (BatchNormal  (None, 56, 56, 64)  256         ['conv2_block2_1_conv[0][0]']    \n",
            " ization)                                                                                         \n",
            "                                                                                                  \n",
            " conv2_block2_1_relu (Activatio  (None, 56, 56, 64)  0           ['conv2_block2_1_bn[0][0]']      \n",
            " n)                                                                                               \n",
            "                                                                                                  \n",
            " conv2_block2_2_conv (Conv2D)   (None, 56, 56, 64)   36928       ['conv2_block2_1_relu[0][0]']    \n",
            "                                                                                                  \n",
            " conv2_block2_2_bn (BatchNormal  (None, 56, 56, 64)  256         ['conv2_block2_2_conv[0][0]']    \n",
            " ization)                                                                                         \n",
            "                                                                                                  \n",
            " conv2_block2_2_relu (Activatio  (None, 56, 56, 64)  0           ['conv2_block2_2_bn[0][0]']      \n",
            " n)                                                                                               \n",
            "                                                                                                  \n",
            " conv2_block2_3_conv (Conv2D)   (None, 56, 56, 256)  16640       ['conv2_block2_2_relu[0][0]']    \n",
            "                                                                                                  \n",
            " conv2_block2_3_bn (BatchNormal  (None, 56, 56, 256)  1024       ['conv2_block2_3_conv[0][0]']    \n",
            " ization)                                                                                         \n",
            "                                                                                                  \n",
            " conv2_block2_add (Add)         (None, 56, 56, 256)  0           ['conv2_block1_out[0][0]',       \n",
            "                                                                  'conv2_block2_3_bn[0][0]']      \n",
            "                                                                                                  \n",
            " conv2_block2_out (Activation)  (None, 56, 56, 256)  0           ['conv2_block2_add[0][0]']       \n",
            "                                                                                                  \n",
            " conv2_block3_1_conv (Conv2D)   (None, 56, 56, 64)   16448       ['conv2_block2_out[0][0]']       \n",
            "                                                                                                  \n",
            " conv2_block3_1_bn (BatchNormal  (None, 56, 56, 64)  256         ['conv2_block3_1_conv[0][0]']    \n",
            " ization)                                                                                         \n",
            "                                                                                                  \n",
            " conv2_block3_1_relu (Activatio  (None, 56, 56, 64)  0           ['conv2_block3_1_bn[0][0]']      \n",
            " n)                                                                                               \n",
            "                                                                                                  \n",
            " conv2_block3_2_conv (Conv2D)   (None, 56, 56, 64)   36928       ['conv2_block3_1_relu[0][0]']    \n",
            "                                                                                                  \n",
            " conv2_block3_2_bn (BatchNormal  (None, 56, 56, 64)  256         ['conv2_block3_2_conv[0][0]']    \n",
            " ization)                                                                                         \n",
            "                                                                                                  \n",
            " conv2_block3_2_relu (Activatio  (None, 56, 56, 64)  0           ['conv2_block3_2_bn[0][0]']      \n",
            " n)                                                                                               \n",
            "                                                                                                  \n",
            " conv2_block3_3_conv (Conv2D)   (None, 56, 56, 256)  16640       ['conv2_block3_2_relu[0][0]']    \n",
            "                                                                                                  \n",
            " conv2_block3_3_bn (BatchNormal  (None, 56, 56, 256)  1024       ['conv2_block3_3_conv[0][0]']    \n",
            " ization)                                                                                         \n",
            "                                                                                                  \n",
            " conv2_block3_add (Add)         (None, 56, 56, 256)  0           ['conv2_block2_out[0][0]',       \n",
            "                                                                  'conv2_block3_3_bn[0][0]']      \n",
            "                                                                                                  \n",
            " conv2_block3_out (Activation)  (None, 56, 56, 256)  0           ['conv2_block3_add[0][0]']       \n",
            "                                                                                                  \n",
            " conv3_block1_1_conv (Conv2D)   (None, 28, 28, 128)  32896       ['conv2_block3_out[0][0]']       \n",
            "                                                                                                  \n",
            " conv3_block1_1_bn (BatchNormal  (None, 28, 28, 128)  512        ['conv3_block1_1_conv[0][0]']    \n",
            " ization)                                                                                         \n",
            "                                                                                                  \n",
            " conv3_block1_1_relu (Activatio  (None, 28, 28, 128)  0          ['conv3_block1_1_bn[0][0]']      \n",
            " n)                                                                                               \n",
            "                                                                                                  \n",
            " conv3_block1_2_conv (Conv2D)   (None, 28, 28, 128)  147584      ['conv3_block1_1_relu[0][0]']    \n",
            "                                                                                                  \n",
            " conv3_block1_2_bn (BatchNormal  (None, 28, 28, 128)  512        ['conv3_block1_2_conv[0][0]']    \n",
            " ization)                                                                                         \n",
            "                                                                                                  \n",
            " conv3_block1_2_relu (Activatio  (None, 28, 28, 128)  0          ['conv3_block1_2_bn[0][0]']      \n",
            " n)                                                                                               \n",
            "                                                                                                  \n",
            " conv3_block1_0_conv (Conv2D)   (None, 28, 28, 512)  131584      ['conv2_block3_out[0][0]']       \n",
            "                                                                                                  \n",
            " conv3_block1_3_conv (Conv2D)   (None, 28, 28, 512)  66048       ['conv3_block1_2_relu[0][0]']    \n",
            "                                                                                                  \n",
            " conv3_block1_0_bn (BatchNormal  (None, 28, 28, 512)  2048       ['conv3_block1_0_conv[0][0]']    \n",
            " ization)                                                                                         \n",
            "                                                                                                  \n",
            " conv3_block1_3_bn (BatchNormal  (None, 28, 28, 512)  2048       ['conv3_block1_3_conv[0][0]']    \n",
            " ization)                                                                                         \n",
            "                                                                                                  \n",
            " conv3_block1_add (Add)         (None, 28, 28, 512)  0           ['conv3_block1_0_bn[0][0]',      \n",
            "                                                                  'conv3_block1_3_bn[0][0]']      \n",
            "                                                                                                  \n",
            " conv3_block1_out (Activation)  (None, 28, 28, 512)  0           ['conv3_block1_add[0][0]']       \n",
            "                                                                                                  \n",
            " conv3_block2_1_conv (Conv2D)   (None, 28, 28, 128)  65664       ['conv3_block1_out[0][0]']       \n",
            "                                                                                                  \n",
            " conv3_block2_1_bn (BatchNormal  (None, 28, 28, 128)  512        ['conv3_block2_1_conv[0][0]']    \n",
            " ization)                                                                                         \n",
            "                                                                                                  \n",
            " conv3_block2_1_relu (Activatio  (None, 28, 28, 128)  0          ['conv3_block2_1_bn[0][0]']      \n",
            " n)                                                                                               \n",
            "                                                                                                  \n",
            " conv3_block2_2_conv (Conv2D)   (None, 28, 28, 128)  147584      ['conv3_block2_1_relu[0][0]']    \n",
            "                                                                                                  \n",
            " conv3_block2_2_bn (BatchNormal  (None, 28, 28, 128)  512        ['conv3_block2_2_conv[0][0]']    \n",
            " ization)                                                                                         \n",
            "                                                                                                  \n",
            " conv3_block2_2_relu (Activatio  (None, 28, 28, 128)  0          ['conv3_block2_2_bn[0][0]']      \n",
            " n)                                                                                               \n",
            "                                                                                                  \n",
            " conv3_block2_3_conv (Conv2D)   (None, 28, 28, 512)  66048       ['conv3_block2_2_relu[0][0]']    \n",
            "                                                                                                  \n",
            " conv3_block2_3_bn (BatchNormal  (None, 28, 28, 512)  2048       ['conv3_block2_3_conv[0][0]']    \n",
            " ization)                                                                                         \n",
            "                                                                                                  \n",
            " conv3_block2_add (Add)         (None, 28, 28, 512)  0           ['conv3_block1_out[0][0]',       \n",
            "                                                                  'conv3_block2_3_bn[0][0]']      \n",
            "                                                                                                  \n",
            " conv3_block2_out (Activation)  (None, 28, 28, 512)  0           ['conv3_block2_add[0][0]']       \n",
            "                                                                                                  \n",
            " conv3_block3_1_conv (Conv2D)   (None, 28, 28, 128)  65664       ['conv3_block2_out[0][0]']       \n",
            "                                                                                                  \n",
            " conv3_block3_1_bn (BatchNormal  (None, 28, 28, 128)  512        ['conv3_block3_1_conv[0][0]']    \n",
            " ization)                                                                                         \n",
            "                                                                                                  \n",
            " conv3_block3_1_relu (Activatio  (None, 28, 28, 128)  0          ['conv3_block3_1_bn[0][0]']      \n",
            " n)                                                                                               \n",
            "                                                                                                  \n",
            " conv3_block3_2_conv (Conv2D)   (None, 28, 28, 128)  147584      ['conv3_block3_1_relu[0][0]']    \n",
            "                                                                                                  \n",
            " conv3_block3_2_bn (BatchNormal  (None, 28, 28, 128)  512        ['conv3_block3_2_conv[0][0]']    \n",
            " ization)                                                                                         \n",
            "                                                                                                  \n",
            " conv3_block3_2_relu (Activatio  (None, 28, 28, 128)  0          ['conv3_block3_2_bn[0][0]']      \n",
            " n)                                                                                               \n",
            "                                                                                                  \n",
            " conv3_block3_3_conv (Conv2D)   (None, 28, 28, 512)  66048       ['conv3_block3_2_relu[0][0]']    \n",
            "                                                                                                  \n",
            " conv3_block3_3_bn (BatchNormal  (None, 28, 28, 512)  2048       ['conv3_block3_3_conv[0][0]']    \n",
            " ization)                                                                                         \n",
            "                                                                                                  \n",
            " conv3_block3_add (Add)         (None, 28, 28, 512)  0           ['conv3_block2_out[0][0]',       \n",
            "                                                                  'conv3_block3_3_bn[0][0]']      \n",
            "                                                                                                  \n",
            " conv3_block3_out (Activation)  (None, 28, 28, 512)  0           ['conv3_block3_add[0][0]']       \n",
            "                                                                                                  \n",
            " conv3_block4_1_conv (Conv2D)   (None, 28, 28, 128)  65664       ['conv3_block3_out[0][0]']       \n",
            "                                                                                                  \n",
            " conv3_block4_1_bn (BatchNormal  (None, 28, 28, 128)  512        ['conv3_block4_1_conv[0][0]']    \n",
            " ization)                                                                                         \n",
            "                                                                                                  \n",
            " conv3_block4_1_relu (Activatio  (None, 28, 28, 128)  0          ['conv3_block4_1_bn[0][0]']      \n",
            " n)                                                                                               \n",
            "                                                                                                  \n",
            " conv3_block4_2_conv (Conv2D)   (None, 28, 28, 128)  147584      ['conv3_block4_1_relu[0][0]']    \n",
            "                                                                                                  \n",
            " conv3_block4_2_bn (BatchNormal  (None, 28, 28, 128)  512        ['conv3_block4_2_conv[0][0]']    \n",
            " ization)                                                                                         \n",
            "                                                                                                  \n",
            " conv3_block4_2_relu (Activatio  (None, 28, 28, 128)  0          ['conv3_block4_2_bn[0][0]']      \n",
            " n)                                                                                               \n",
            "                                                                                                  \n",
            " conv3_block4_3_conv (Conv2D)   (None, 28, 28, 512)  66048       ['conv3_block4_2_relu[0][0]']    \n",
            "                                                                                                  \n",
            " conv3_block4_3_bn (BatchNormal  (None, 28, 28, 512)  2048       ['conv3_block4_3_conv[0][0]']    \n",
            " ization)                                                                                         \n",
            "                                                                                                  \n",
            " conv3_block4_add (Add)         (None, 28, 28, 512)  0           ['conv3_block3_out[0][0]',       \n",
            "                                                                  'conv3_block4_3_bn[0][0]']      \n",
            "                                                                                                  \n",
            " conv3_block4_out (Activation)  (None, 28, 28, 512)  0           ['conv3_block4_add[0][0]']       \n",
            "                                                                                                  \n",
            " conv4_block1_1_conv (Conv2D)   (None, 14, 14, 256)  131328      ['conv3_block4_out[0][0]']       \n",
            "                                                                                                  \n",
            " conv4_block1_1_bn (BatchNormal  (None, 14, 14, 256)  1024       ['conv4_block1_1_conv[0][0]']    \n",
            " ization)                                                                                         \n",
            "                                                                                                  \n",
            " conv4_block1_1_relu (Activatio  (None, 14, 14, 256)  0          ['conv4_block1_1_bn[0][0]']      \n",
            " n)                                                                                               \n",
            "                                                                                                  \n",
            " conv4_block1_2_conv (Conv2D)   (None, 14, 14, 256)  590080      ['conv4_block1_1_relu[0][0]']    \n",
            "                                                                                                  \n",
            " conv4_block1_2_bn (BatchNormal  (None, 14, 14, 256)  1024       ['conv4_block1_2_conv[0][0]']    \n",
            " ization)                                                                                         \n",
            "                                                                                                  \n",
            " conv4_block1_2_relu (Activatio  (None, 14, 14, 256)  0          ['conv4_block1_2_bn[0][0]']      \n",
            " n)                                                                                               \n",
            "                                                                                                  \n",
            " conv4_block1_0_conv (Conv2D)   (None, 14, 14, 1024  525312      ['conv3_block4_out[0][0]']       \n",
            "                                )                                                                 \n",
            "                                                                                                  \n",
            " conv4_block1_3_conv (Conv2D)   (None, 14, 14, 1024  263168      ['conv4_block1_2_relu[0][0]']    \n",
            "                                )                                                                 \n",
            "                                                                                                  \n",
            " conv4_block1_0_bn (BatchNormal  (None, 14, 14, 1024  4096       ['conv4_block1_0_conv[0][0]']    \n",
            " ization)                       )                                                                 \n",
            "                                                                                                  \n",
            " conv4_block1_3_bn (BatchNormal  (None, 14, 14, 1024  4096       ['conv4_block1_3_conv[0][0]']    \n",
            " ization)                       )                                                                 \n",
            "                                                                                                  \n",
            " conv4_block1_add (Add)         (None, 14, 14, 1024  0           ['conv4_block1_0_bn[0][0]',      \n",
            "                                )                                 'conv4_block1_3_bn[0][0]']      \n",
            "                                                                                                  \n",
            " conv4_block1_out (Activation)  (None, 14, 14, 1024  0           ['conv4_block1_add[0][0]']       \n",
            "                                )                                                                 \n",
            "                                                                                                  \n",
            " conv4_block2_1_conv (Conv2D)   (None, 14, 14, 256)  262400      ['conv4_block1_out[0][0]']       \n",
            "                                                                                                  \n",
            " conv4_block2_1_bn (BatchNormal  (None, 14, 14, 256)  1024       ['conv4_block2_1_conv[0][0]']    \n",
            " ization)                                                                                         \n",
            "                                                                                                  \n",
            " conv4_block2_1_relu (Activatio  (None, 14, 14, 256)  0          ['conv4_block2_1_bn[0][0]']      \n",
            " n)                                                                                               \n",
            "                                                                                                  \n",
            " conv4_block2_2_conv (Conv2D)   (None, 14, 14, 256)  590080      ['conv4_block2_1_relu[0][0]']    \n",
            "                                                                                                  \n",
            " conv4_block2_2_bn (BatchNormal  (None, 14, 14, 256)  1024       ['conv4_block2_2_conv[0][0]']    \n",
            " ization)                                                                                         \n",
            "                                                                                                  \n",
            " conv4_block2_2_relu (Activatio  (None, 14, 14, 256)  0          ['conv4_block2_2_bn[0][0]']      \n",
            " n)                                                                                               \n",
            "                                                                                                  \n",
            " conv4_block2_3_conv (Conv2D)   (None, 14, 14, 1024  263168      ['conv4_block2_2_relu[0][0]']    \n",
            "                                )                                                                 \n",
            "                                                                                                  \n",
            " conv4_block2_3_bn (BatchNormal  (None, 14, 14, 1024  4096       ['conv4_block2_3_conv[0][0]']    \n",
            " ization)                       )                                                                 \n",
            "                                                                                                  \n",
            " conv4_block2_add (Add)         (None, 14, 14, 1024  0           ['conv4_block1_out[0][0]',       \n",
            "                                )                                 'conv4_block2_3_bn[0][0]']      \n",
            "                                                                                                  \n",
            " conv4_block2_out (Activation)  (None, 14, 14, 1024  0           ['conv4_block2_add[0][0]']       \n",
            "                                )                                                                 \n",
            "                                                                                                  \n",
            " conv4_block3_1_conv (Conv2D)   (None, 14, 14, 256)  262400      ['conv4_block2_out[0][0]']       \n",
            "                                                                                                  \n",
            " conv4_block3_1_bn (BatchNormal  (None, 14, 14, 256)  1024       ['conv4_block3_1_conv[0][0]']    \n",
            " ization)                                                                                         \n",
            "                                                                                                  \n",
            " conv4_block3_1_relu (Activatio  (None, 14, 14, 256)  0          ['conv4_block3_1_bn[0][0]']      \n",
            " n)                                                                                               \n",
            "                                                                                                  \n",
            " conv4_block3_2_conv (Conv2D)   (None, 14, 14, 256)  590080      ['conv4_block3_1_relu[0][0]']    \n",
            "                                                                                                  \n",
            " conv4_block3_2_bn (BatchNormal  (None, 14, 14, 256)  1024       ['conv4_block3_2_conv[0][0]']    \n",
            " ization)                                                                                         \n",
            "                                                                                                  \n",
            " conv4_block3_2_relu (Activatio  (None, 14, 14, 256)  0          ['conv4_block3_2_bn[0][0]']      \n",
            " n)                                                                                               \n",
            "                                                                                                  \n",
            " conv4_block3_3_conv (Conv2D)   (None, 14, 14, 1024  263168      ['conv4_block3_2_relu[0][0]']    \n",
            "                                )                                                                 \n",
            "                                                                                                  \n",
            " conv4_block3_3_bn (BatchNormal  (None, 14, 14, 1024  4096       ['conv4_block3_3_conv[0][0]']    \n",
            " ization)                       )                                                                 \n",
            "                                                                                                  \n",
            " conv4_block3_add (Add)         (None, 14, 14, 1024  0           ['conv4_block2_out[0][0]',       \n",
            "                                )                                 'conv4_block3_3_bn[0][0]']      \n",
            "                                                                                                  \n",
            " conv4_block3_out (Activation)  (None, 14, 14, 1024  0           ['conv4_block3_add[0][0]']       \n",
            "                                )                                                                 \n",
            "                                                                                                  \n",
            " conv4_block4_1_conv (Conv2D)   (None, 14, 14, 256)  262400      ['conv4_block3_out[0][0]']       \n",
            "                                                                                                  \n",
            " conv4_block4_1_bn (BatchNormal  (None, 14, 14, 256)  1024       ['conv4_block4_1_conv[0][0]']    \n",
            " ization)                                                                                         \n",
            "                                                                                                  \n",
            " conv4_block4_1_relu (Activatio  (None, 14, 14, 256)  0          ['conv4_block4_1_bn[0][0]']      \n",
            " n)                                                                                               \n",
            "                                                                                                  \n",
            " conv4_block4_2_conv (Conv2D)   (None, 14, 14, 256)  590080      ['conv4_block4_1_relu[0][0]']    \n",
            "                                                                                                  \n",
            " conv4_block4_2_bn (BatchNormal  (None, 14, 14, 256)  1024       ['conv4_block4_2_conv[0][0]']    \n",
            " ization)                                                                                         \n",
            "                                                                                                  \n",
            " conv4_block4_2_relu (Activatio  (None, 14, 14, 256)  0          ['conv4_block4_2_bn[0][0]']      \n",
            " n)                                                                                               \n",
            "                                                                                                  \n",
            " conv4_block4_3_conv (Conv2D)   (None, 14, 14, 1024  263168      ['conv4_block4_2_relu[0][0]']    \n",
            "                                )                                                                 \n",
            "                                                                                                  \n",
            " conv4_block4_3_bn (BatchNormal  (None, 14, 14, 1024  4096       ['conv4_block4_3_conv[0][0]']    \n",
            " ization)                       )                                                                 \n",
            "                                                                                                  \n",
            " conv4_block4_add (Add)         (None, 14, 14, 1024  0           ['conv4_block3_out[0][0]',       \n",
            "                                )                                 'conv4_block4_3_bn[0][0]']      \n",
            "                                                                                                  \n",
            " conv4_block4_out (Activation)  (None, 14, 14, 1024  0           ['conv4_block4_add[0][0]']       \n",
            "                                )                                                                 \n",
            "                                                                                                  \n",
            " conv4_block5_1_conv (Conv2D)   (None, 14, 14, 256)  262400      ['conv4_block4_out[0][0]']       \n",
            "                                                                                                  \n",
            " conv4_block5_1_bn (BatchNormal  (None, 14, 14, 256)  1024       ['conv4_block5_1_conv[0][0]']    \n",
            " ization)                                                                                         \n",
            "                                                                                                  \n",
            " conv4_block5_1_relu (Activatio  (None, 14, 14, 256)  0          ['conv4_block5_1_bn[0][0]']      \n",
            " n)                                                                                               \n",
            "                                                                                                  \n",
            " conv4_block5_2_conv (Conv2D)   (None, 14, 14, 256)  590080      ['conv4_block5_1_relu[0][0]']    \n",
            "                                                                                                  \n",
            " conv4_block5_2_bn (BatchNormal  (None, 14, 14, 256)  1024       ['conv4_block5_2_conv[0][0]']    \n",
            " ization)                                                                                         \n",
            "                                                                                                  \n",
            " conv4_block5_2_relu (Activatio  (None, 14, 14, 256)  0          ['conv4_block5_2_bn[0][0]']      \n",
            " n)                                                                                               \n",
            "                                                                                                  \n",
            " conv4_block5_3_conv (Conv2D)   (None, 14, 14, 1024  263168      ['conv4_block5_2_relu[0][0]']    \n",
            "                                )                                                                 \n",
            "                                                                                                  \n",
            " conv4_block5_3_bn (BatchNormal  (None, 14, 14, 1024  4096       ['conv4_block5_3_conv[0][0]']    \n",
            " ization)                       )                                                                 \n",
            "                                                                                                  \n",
            " conv4_block5_add (Add)         (None, 14, 14, 1024  0           ['conv4_block4_out[0][0]',       \n",
            "                                )                                 'conv4_block5_3_bn[0][0]']      \n",
            "                                                                                                  \n",
            " conv4_block5_out (Activation)  (None, 14, 14, 1024  0           ['conv4_block5_add[0][0]']       \n",
            "                                )                                                                 \n",
            "                                                                                                  \n",
            " conv4_block6_1_conv (Conv2D)   (None, 14, 14, 256)  262400      ['conv4_block5_out[0][0]']       \n",
            "                                                                                                  \n",
            " conv4_block6_1_bn (BatchNormal  (None, 14, 14, 256)  1024       ['conv4_block6_1_conv[0][0]']    \n",
            " ization)                                                                                         \n",
            "                                                                                                  \n",
            " conv4_block6_1_relu (Activatio  (None, 14, 14, 256)  0          ['conv4_block6_1_bn[0][0]']      \n",
            " n)                                                                                               \n",
            "                                                                                                  \n",
            " conv4_block6_2_conv (Conv2D)   (None, 14, 14, 256)  590080      ['conv4_block6_1_relu[0][0]']    \n",
            "                                                                                                  \n",
            " conv4_block6_2_bn (BatchNormal  (None, 14, 14, 256)  1024       ['conv4_block6_2_conv[0][0]']    \n",
            " ization)                                                                                         \n",
            "                                                                                                  \n",
            " conv4_block6_2_relu (Activatio  (None, 14, 14, 256)  0          ['conv4_block6_2_bn[0][0]']      \n",
            " n)                                                                                               \n",
            "                                                                                                  \n",
            " conv4_block6_3_conv (Conv2D)   (None, 14, 14, 1024  263168      ['conv4_block6_2_relu[0][0]']    \n",
            "                                )                                                                 \n",
            "                                                                                                  \n",
            " conv4_block6_3_bn (BatchNormal  (None, 14, 14, 1024  4096       ['conv4_block6_3_conv[0][0]']    \n",
            " ization)                       )                                                                 \n",
            "                                                                                                  \n",
            " conv4_block6_add (Add)         (None, 14, 14, 1024  0           ['conv4_block5_out[0][0]',       \n",
            "                                )                                 'conv4_block6_3_bn[0][0]']      \n",
            "                                                                                                  \n",
            " conv4_block6_out (Activation)  (None, 14, 14, 1024  0           ['conv4_block6_add[0][0]']       \n",
            "                                )                                                                 \n",
            "                                                                                                  \n",
            " conv5_block1_1_conv (Conv2D)   (None, 7, 7, 512)    524800      ['conv4_block6_out[0][0]']       \n",
            "                                                                                                  \n",
            " conv5_block1_1_bn (BatchNormal  (None, 7, 7, 512)   2048        ['conv5_block1_1_conv[0][0]']    \n",
            " ization)                                                                                         \n",
            "                                                                                                  \n",
            " conv5_block1_1_relu (Activatio  (None, 7, 7, 512)   0           ['conv5_block1_1_bn[0][0]']      \n",
            " n)                                                                                               \n",
            "                                                                                                  \n",
            " conv5_block1_2_conv (Conv2D)   (None, 7, 7, 512)    2359808     ['conv5_block1_1_relu[0][0]']    \n",
            "                                                                                                  \n",
            " conv5_block1_2_bn (BatchNormal  (None, 7, 7, 512)   2048        ['conv5_block1_2_conv[0][0]']    \n",
            " ization)                                                                                         \n",
            "                                                                                                  \n",
            " conv5_block1_2_relu (Activatio  (None, 7, 7, 512)   0           ['conv5_block1_2_bn[0][0]']      \n",
            " n)                                                                                               \n",
            "                                                                                                  \n",
            " conv5_block1_0_conv (Conv2D)   (None, 7, 7, 2048)   2099200     ['conv4_block6_out[0][0]']       \n",
            "                                                                                                  \n",
            " conv5_block1_3_conv (Conv2D)   (None, 7, 7, 2048)   1050624     ['conv5_block1_2_relu[0][0]']    \n",
            "                                                                                                  \n",
            " conv5_block1_0_bn (BatchNormal  (None, 7, 7, 2048)  8192        ['conv5_block1_0_conv[0][0]']    \n",
            " ization)                                                                                         \n",
            "                                                                                                  \n",
            " conv5_block1_3_bn (BatchNormal  (None, 7, 7, 2048)  8192        ['conv5_block1_3_conv[0][0]']    \n",
            " ization)                                                                                         \n",
            "                                                                                                  \n",
            " conv5_block1_add (Add)         (None, 7, 7, 2048)   0           ['conv5_block1_0_bn[0][0]',      \n",
            "                                                                  'conv5_block1_3_bn[0][0]']      \n",
            "                                                                                                  \n",
            " conv5_block1_out (Activation)  (None, 7, 7, 2048)   0           ['conv5_block1_add[0][0]']       \n",
            "                                                                                                  \n",
            " conv5_block2_1_conv (Conv2D)   (None, 7, 7, 512)    1049088     ['conv5_block1_out[0][0]']       \n",
            "                                                                                                  \n",
            " conv5_block2_1_bn (BatchNormal  (None, 7, 7, 512)   2048        ['conv5_block2_1_conv[0][0]']    \n",
            " ization)                                                                                         \n",
            "                                                                                                  \n",
            " conv5_block2_1_relu (Activatio  (None, 7, 7, 512)   0           ['conv5_block2_1_bn[0][0]']      \n",
            " n)                                                                                               \n",
            "                                                                                                  \n",
            " conv5_block2_2_conv (Conv2D)   (None, 7, 7, 512)    2359808     ['conv5_block2_1_relu[0][0]']    \n",
            "                                                                                                  \n",
            " conv5_block2_2_bn (BatchNormal  (None, 7, 7, 512)   2048        ['conv5_block2_2_conv[0][0]']    \n",
            " ization)                                                                                         \n",
            "                                                                                                  \n",
            " conv5_block2_2_relu (Activatio  (None, 7, 7, 512)   0           ['conv5_block2_2_bn[0][0]']      \n",
            " n)                                                                                               \n",
            "                                                                                                  \n",
            " conv5_block2_3_conv (Conv2D)   (None, 7, 7, 2048)   1050624     ['conv5_block2_2_relu[0][0]']    \n",
            "                                                                                                  \n",
            " conv5_block2_3_bn (BatchNormal  (None, 7, 7, 2048)  8192        ['conv5_block2_3_conv[0][0]']    \n",
            " ization)                                                                                         \n",
            "                                                                                                  \n",
            " conv5_block2_add (Add)         (None, 7, 7, 2048)   0           ['conv5_block1_out[0][0]',       \n",
            "                                                                  'conv5_block2_3_bn[0][0]']      \n",
            "                                                                                                  \n",
            " conv5_block2_out (Activation)  (None, 7, 7, 2048)   0           ['conv5_block2_add[0][0]']       \n",
            "                                                                                                  \n",
            " conv5_block3_1_conv (Conv2D)   (None, 7, 7, 512)    1049088     ['conv5_block2_out[0][0]']       \n",
            "                                                                                                  \n",
            " conv5_block3_1_bn (BatchNormal  (None, 7, 7, 512)   2048        ['conv5_block3_1_conv[0][0]']    \n",
            " ization)                                                                                         \n",
            "                                                                                                  \n",
            " conv5_block3_1_relu (Activatio  (None, 7, 7, 512)   0           ['conv5_block3_1_bn[0][0]']      \n",
            " n)                                                                                               \n",
            "                                                                                                  \n",
            " conv5_block3_2_conv (Conv2D)   (None, 7, 7, 512)    2359808     ['conv5_block3_1_relu[0][0]']    \n",
            "                                                                                                  \n",
            " conv5_block3_2_bn (BatchNormal  (None, 7, 7, 512)   2048        ['conv5_block3_2_conv[0][0]']    \n",
            " ization)                                                                                         \n",
            "                                                                                                  \n",
            " conv5_block3_2_relu (Activatio  (None, 7, 7, 512)   0           ['conv5_block3_2_bn[0][0]']      \n",
            " n)                                                                                               \n",
            "                                                                                                  \n",
            " conv5_block3_3_conv (Conv2D)   (None, 7, 7, 2048)   1050624     ['conv5_block3_2_relu[0][0]']    \n",
            "                                                                                                  \n",
            " conv5_block3_3_bn (BatchNormal  (None, 7, 7, 2048)  8192        ['conv5_block3_3_conv[0][0]']    \n",
            " ization)                                                                                         \n",
            "                                                                                                  \n",
            " conv5_block3_add (Add)         (None, 7, 7, 2048)   0           ['conv5_block2_out[0][0]',       \n",
            "                                                                  'conv5_block3_3_bn[0][0]']      \n",
            "                                                                                                  \n",
            " conv5_block3_out (Activation)  (None, 7, 7, 2048)   0           ['conv5_block3_add[0][0]']       \n",
            "                                                                                                  \n",
            " flatten (Flatten)              (None, 100352)       0           ['conv5_block3_out[0][0]']       \n",
            "                                                                                                  \n",
            " dense (Dense)                  (None, 25)           2508825     ['flatten[0][0]']                \n",
            "                                                                                                  \n",
            "==================================================================================================\n",
            "Total params: 26,096,537\n",
            "Trainable params: 2,508,825\n",
            "Non-trainable params: 23,587,712\n",
            "__________________________________________________________________________________________________\n"
          ]
        }
      ]
    },
    {
      "cell_type": "code",
      "source": [
        "# tell the model what cost and optimization method to use\n",
        "model.compile(\n",
        "  loss='categorical_crossentropy',\n",
        "  optimizer='adam',\n",
        "  metrics=['accuracy']\n",
        ")"
      ],
      "metadata": {
        "id": "MXDdrF4RNn3T"
      },
      "execution_count": 11,
      "outputs": []
    },
    {
      "cell_type": "code",
      "source": [
        "# Use the Image Data Generator to import the images from the dataset\n",
        "from tensorflow.keras.preprocessing.image import ImageDataGenerator\n",
        "\n",
        "train_datagen = ImageDataGenerator(rescale = 1./255,\n",
        "                                   shear_range = 0.2,\n",
        "                                   zoom_range = 0.2,\n",
        "                                   horizontal_flip = True)\n",
        "\n",
        "test_datagen = ImageDataGenerator(rescale = 1./255)"
      ],
      "metadata": {
        "id": "UQVrA7ZsOCQk"
      },
      "execution_count": 12,
      "outputs": []
    },
    {
      "cell_type": "code",
      "source": [
        "# Make sure you provide the same target size as initialied for the image size\n",
        "training_set = train_datagen.flow_from_directory('/content/logo_data/data/train',\n",
        "                                                 target_size = (224, 224),\n",
        "                                                 batch_size = 32,\n",
        "                                                 class_mode = 'categorical')"
      ],
      "metadata": {
        "colab": {
          "base_uri": "https://localhost:8080/"
        },
        "id": "g1oSf6gbOvrM",
        "outputId": "f7bf1afe-cc2d-4087-da22-125de8418212"
      },
      "execution_count": 13,
      "outputs": [
        {
          "output_type": "stream",
          "name": "stdout",
          "text": [
            "Found 3354 images belonging to 25 classes.\n"
          ]
        }
      ]
    },
    {
      "cell_type": "code",
      "source": [
        "test_set = test_datagen.flow_from_directory('/content/logo_data/data/val',\n",
        "                                            target_size = (224, 224),\n",
        "                                            batch_size = 32,\n",
        "                                            class_mode = 'categorical')"
      ],
      "metadata": {
        "colab": {
          "base_uri": "https://localhost:8080/"
        },
        "id": "Fytj7dwYPBsh",
        "outputId": "cec71e17-aa65-47ec-f2ac-81ff9709977d"
      },
      "execution_count": 14,
      "outputs": [
        {
          "output_type": "stream",
          "name": "stdout",
          "text": [
            "Found 361 images belonging to 25 classes.\n"
          ]
        }
      ]
    },
    {
      "cell_type": "code",
      "source": [
        "# fit the model\n",
        "# Run the cell. It will take some time to execute\n",
        "r = model.fit_generator(\n",
        "  training_set,\n",
        "  validation_data=test_set,\n",
        "  epochs=50,\n",
        "  steps_per_epoch=len(training_set),\n",
        "  validation_steps=len(test_set)\n",
        ")"
      ],
      "metadata": {
        "colab": {
          "base_uri": "https://localhost:8080/"
        },
        "id": "4uO1TABfPJgY",
        "outputId": "0f10e2db-47eb-40df-80f3-0e04e628e7f9"
      },
      "execution_count": 15,
      "outputs": [
        {
          "output_type": "stream",
          "name": "stderr",
          "text": [
            "<ipython-input-15-69229fe26ea3>:3: UserWarning: `Model.fit_generator` is deprecated and will be removed in a future version. Please use `Model.fit`, which supports generators.\n",
            "  r = model.fit_generator(\n"
          ]
        },
        {
          "output_type": "stream",
          "name": "stdout",
          "text": [
            "Epoch 1/50\n",
            "105/105 [==============================] - 49s 368ms/step - loss: 6.6198 - accuracy: 0.2299 - val_loss: 2.2170 - val_accuracy: 0.4044\n",
            "Epoch 2/50\n",
            "105/105 [==============================] - 38s 358ms/step - loss: 2.1348 - accuracy: 0.4574 - val_loss: 1.6019 - val_accuracy: 0.5706\n",
            "Epoch 3/50\n",
            "105/105 [==============================] - 38s 357ms/step - loss: 1.7960 - accuracy: 0.5742 - val_loss: 1.2665 - val_accuracy: 0.7147\n",
            "Epoch 4/50\n",
            "105/105 [==============================] - 39s 370ms/step - loss: 1.7198 - accuracy: 0.5745 - val_loss: 2.0048 - val_accuracy: 0.5983\n",
            "Epoch 5/50\n",
            "105/105 [==============================] - 37s 352ms/step - loss: 1.7109 - accuracy: 0.6082 - val_loss: 1.2904 - val_accuracy: 0.6759\n",
            "Epoch 6/50\n",
            "105/105 [==============================] - 37s 354ms/step - loss: 1.3434 - accuracy: 0.6795 - val_loss: 1.3047 - val_accuracy: 0.7258\n",
            "Epoch 7/50\n",
            "105/105 [==============================] - 37s 350ms/step - loss: 1.8592 - accuracy: 0.6258 - val_loss: 1.7708 - val_accuracy: 0.6177\n",
            "Epoch 8/50\n",
            "105/105 [==============================] - 37s 349ms/step - loss: 1.3807 - accuracy: 0.6884 - val_loss: 1.9814 - val_accuracy: 0.6260\n",
            "Epoch 9/50\n",
            "105/105 [==============================] - 37s 351ms/step - loss: 1.3052 - accuracy: 0.6953 - val_loss: 1.4270 - val_accuracy: 0.7175\n",
            "Epoch 10/50\n",
            "105/105 [==============================] - 37s 351ms/step - loss: 1.3903 - accuracy: 0.7096 - val_loss: 1.1068 - val_accuracy: 0.6870\n",
            "Epoch 11/50\n",
            "105/105 [==============================] - 37s 352ms/step - loss: 1.3804 - accuracy: 0.6866 - val_loss: 1.5489 - val_accuracy: 0.6898\n",
            "Epoch 12/50\n",
            "105/105 [==============================] - 39s 367ms/step - loss: 1.2415 - accuracy: 0.7165 - val_loss: 1.4935 - val_accuracy: 0.7147\n",
            "Epoch 13/50\n",
            "105/105 [==============================] - 37s 355ms/step - loss: 1.5678 - accuracy: 0.6843 - val_loss: 1.9100 - val_accuracy: 0.7091\n",
            "Epoch 14/50\n",
            "105/105 [==============================] - 37s 352ms/step - loss: 1.2807 - accuracy: 0.7147 - val_loss: 1.2135 - val_accuracy: 0.7673\n",
            "Epoch 15/50\n",
            "105/105 [==============================] - 37s 352ms/step - loss: 1.1719 - accuracy: 0.7397 - val_loss: 1.3948 - val_accuracy: 0.7535\n",
            "Epoch 16/50\n",
            "105/105 [==============================] - 37s 351ms/step - loss: 1.2909 - accuracy: 0.7296 - val_loss: 2.1640 - val_accuracy: 0.7258\n",
            "Epoch 17/50\n",
            "105/105 [==============================] - 37s 352ms/step - loss: 1.2129 - accuracy: 0.7367 - val_loss: 1.4221 - val_accuracy: 0.7590\n",
            "Epoch 18/50\n",
            "105/105 [==============================] - 37s 353ms/step - loss: 1.2199 - accuracy: 0.7361 - val_loss: 0.9540 - val_accuracy: 0.8006\n",
            "Epoch 19/50\n",
            "105/105 [==============================] - 37s 353ms/step - loss: 1.0903 - accuracy: 0.7549 - val_loss: 1.2306 - val_accuracy: 0.7784\n",
            "Epoch 20/50\n",
            "105/105 [==============================] - 37s 352ms/step - loss: 1.1275 - accuracy: 0.7701 - val_loss: 1.2076 - val_accuracy: 0.7756\n",
            "Epoch 21/50\n",
            "105/105 [==============================] - 39s 370ms/step - loss: 1.1427 - accuracy: 0.7591 - val_loss: 1.9141 - val_accuracy: 0.7119\n",
            "Epoch 22/50\n",
            "105/105 [==============================] - 37s 352ms/step - loss: 1.1608 - accuracy: 0.7588 - val_loss: 2.1046 - val_accuracy: 0.6704\n",
            "Epoch 23/50\n",
            "105/105 [==============================] - 37s 350ms/step - loss: 1.0811 - accuracy: 0.7725 - val_loss: 1.2756 - val_accuracy: 0.7839\n",
            "Epoch 24/50\n",
            "105/105 [==============================] - 37s 351ms/step - loss: 1.0113 - accuracy: 0.7731 - val_loss: 0.9185 - val_accuracy: 0.8172\n",
            "Epoch 25/50\n",
            "105/105 [==============================] - 37s 351ms/step - loss: 1.1119 - accuracy: 0.7779 - val_loss: 1.5462 - val_accuracy: 0.7091\n",
            "Epoch 26/50\n",
            "105/105 [==============================] - 37s 351ms/step - loss: 0.8949 - accuracy: 0.7931 - val_loss: 1.1817 - val_accuracy: 0.7867\n",
            "Epoch 27/50\n",
            "105/105 [==============================] - 36s 347ms/step - loss: 1.0019 - accuracy: 0.7826 - val_loss: 1.3852 - val_accuracy: 0.7645\n",
            "Epoch 28/50\n",
            "105/105 [==============================] - 37s 349ms/step - loss: 1.2420 - accuracy: 0.7633 - val_loss: 2.1076 - val_accuracy: 0.7147\n",
            "Epoch 29/50\n",
            "105/105 [==============================] - 37s 356ms/step - loss: 1.1143 - accuracy: 0.7782 - val_loss: 1.4245 - val_accuracy: 0.8089\n",
            "Epoch 30/50\n",
            "105/105 [==============================] - 37s 349ms/step - loss: 1.0353 - accuracy: 0.7940 - val_loss: 1.9991 - val_accuracy: 0.7202\n",
            "Epoch 31/50\n",
            "105/105 [==============================] - 37s 350ms/step - loss: 1.3823 - accuracy: 0.7636 - val_loss: 1.6773 - val_accuracy: 0.7618\n",
            "Epoch 32/50\n",
            "105/105 [==============================] - 37s 349ms/step - loss: 0.9397 - accuracy: 0.8002 - val_loss: 1.5227 - val_accuracy: 0.7258\n",
            "Epoch 33/50\n",
            "105/105 [==============================] - 37s 348ms/step - loss: 0.8105 - accuracy: 0.8306 - val_loss: 1.6205 - val_accuracy: 0.7673\n",
            "Epoch 34/50\n",
            "105/105 [==============================] - 37s 350ms/step - loss: 1.1948 - accuracy: 0.7853 - val_loss: 1.5337 - val_accuracy: 0.7867\n",
            "Epoch 35/50\n",
            "105/105 [==============================] - 42s 396ms/step - loss: 1.0300 - accuracy: 0.7922 - val_loss: 1.5207 - val_accuracy: 0.7424\n",
            "Epoch 36/50\n",
            "105/105 [==============================] - 37s 349ms/step - loss: 0.9442 - accuracy: 0.8077 - val_loss: 1.2448 - val_accuracy: 0.8006\n",
            "Epoch 37/50\n",
            "105/105 [==============================] - 37s 356ms/step - loss: 0.8582 - accuracy: 0.8223 - val_loss: 1.0016 - val_accuracy: 0.8199\n",
            "Epoch 38/50\n",
            "105/105 [==============================] - 37s 348ms/step - loss: 1.0638 - accuracy: 0.7982 - val_loss: 1.7707 - val_accuracy: 0.7784\n",
            "Epoch 39/50\n",
            "105/105 [==============================] - 37s 349ms/step - loss: 0.9932 - accuracy: 0.8041 - val_loss: 1.0501 - val_accuracy: 0.8393\n",
            "Epoch 40/50\n",
            "105/105 [==============================] - 37s 356ms/step - loss: 0.8665 - accuracy: 0.8244 - val_loss: 1.9678 - val_accuracy: 0.7452\n",
            "Epoch 41/50\n",
            "105/105 [==============================] - 37s 349ms/step - loss: 1.0951 - accuracy: 0.8008 - val_loss: 1.2332 - val_accuracy: 0.8061\n",
            "Epoch 42/50\n",
            "105/105 [==============================] - 37s 349ms/step - loss: 1.2428 - accuracy: 0.7928 - val_loss: 1.8474 - val_accuracy: 0.7673\n",
            "Epoch 43/50\n",
            "105/105 [==============================] - 37s 351ms/step - loss: 1.1137 - accuracy: 0.7984 - val_loss: 1.6457 - val_accuracy: 0.7507\n",
            "Epoch 44/50\n",
            "105/105 [==============================] - 36s 344ms/step - loss: 1.2430 - accuracy: 0.7940 - val_loss: 2.1957 - val_accuracy: 0.7202\n",
            "Epoch 45/50\n",
            "105/105 [==============================] - 36s 347ms/step - loss: 1.2729 - accuracy: 0.7865 - val_loss: 1.7425 - val_accuracy: 0.7950\n",
            "Epoch 46/50\n",
            "105/105 [==============================] - 37s 353ms/step - loss: 0.9840 - accuracy: 0.8253 - val_loss: 0.8245 - val_accuracy: 0.8753\n",
            "Epoch 47/50\n",
            "105/105 [==============================] - 37s 348ms/step - loss: 0.7982 - accuracy: 0.8357 - val_loss: 1.6256 - val_accuracy: 0.7618\n",
            "Epoch 48/50\n",
            "105/105 [==============================] - 37s 349ms/step - loss: 0.9700 - accuracy: 0.8214 - val_loss: 1.5389 - val_accuracy: 0.7756\n",
            "Epoch 49/50\n",
            "105/105 [==============================] - 36s 346ms/step - loss: 0.8364 - accuracy: 0.8306 - val_loss: 2.0216 - val_accuracy: 0.7784\n",
            "Epoch 50/50\n",
            "105/105 [==============================] - 37s 347ms/step - loss: 0.9285 - accuracy: 0.8357 - val_loss: 1.6832 - val_accuracy: 0.7701\n"
          ]
        }
      ]
    },
    {
      "cell_type": "code",
      "source": [
        "# plot the loss\n",
        "plt.plot(r.history['loss'], label='train loss')\n",
        "plt.plot(r.history['val_loss'], label='val loss')\n",
        "plt.legend()\n",
        "plt.show()\n",
        "plt.savefig('LossVal_loss')\n",
        "\n",
        "# plot the accuracy\n",
        "plt.plot(r.history['accuracy'], label='train acc')\n",
        "plt.plot(r.history['val_accuracy'], label='val acc')\n",
        "plt.legend()\n",
        "plt.show()\n",
        "plt.savefig('AccVal_acc')"
      ],
      "metadata": {
        "colab": {
          "base_uri": "https://localhost:8080/",
          "height": 532
        },
        "id": "bwBf-3I6Ql09",
        "outputId": "f17ede58-5524-4258-cace-55e8757b174a"
      },
      "execution_count": 16,
      "outputs": [
        {
          "output_type": "display_data",
          "data": {
            "text/plain": [
              "<Figure size 432x288 with 1 Axes>"
            ],
            "image/png": "[encoded data removed]"
          },
          "metadata": {
            "needs_background": "light"
          }
        },
        {
          "output_type": "display_data",
          "data": {
            "text/plain": [
              "<Figure size 432x288 with 1 Axes>"
            ],
            "image/png": "[encoded data removed]"
          },
          "metadata": {
            "needs_background": "light"
          }
        },
        {
          "output_type": "display_data",
          "data": {
            "text/plain": [
              "<Figure size 432x288 with 0 Axes>"
            ]
          },
          "metadata": {}
        }
      ]
    },
    {
      "cell_type": "code",
      "source": [
        "from tensorflow.keras.models import load_model\n",
        "\n",
        "model.save('model_resnet50.h5')"
      ],
      "metadata": {
        "id": "e_0BTD5VYt4I"
      },
      "execution_count": 17,
      "outputs": []
    },
    {
      "cell_type": "code",
      "source": [
        "y_pred = model.predict(test_set)"
      ],
      "metadata": {
        "colab": {
          "base_uri": "https://localhost:8080/"
        },
        "id": "aCo7uoqvY8MG",
        "outputId": "1e383a76-a1b1-4f67-fd0f-320de3e870e8"
      },
      "execution_count": 18,
      "outputs": [
        {
          "output_type": "stream",
          "name": "stdout",
          "text": [
            "12/12 [==============================] - 3s 110ms/step\n"
          ]
        }
      ]
    },
    {
      "cell_type": "code",
      "source": [
        "y_pred"
      ],
      "metadata": {
        "colab": {
          "base_uri": "https://localhost:8080/"
        },
        "id": "cKr68-8dZGEp",
        "outputId": "53d41f43-116c-4be3-936d-345434444b43"
      },
      "execution_count": 19,
      "outputs": [
        {
          "output_type": "execute_result",
          "data": {
            "text/plain": [
              "array([[2.8146042e-20, 4.4602370e-13, 5.2170790e-18, ..., 1.0878130e-11,\n",
              "        7.4905799e-20, 7.3499895e-12],\n",
              "       [1.3614682e-05, 8.0748165e-11, 9.5861316e-01, ..., 2.3568229e-07,\n",
              "        3.0765086e-08, 2.2583883e-06],\n",
              "       [9.5973656e-25, 2.2334528e-34, 0.0000000e+00, ..., 1.0000000e+00,\n",
              "        1.6950943e-34, 8.6127155e-31],\n",
              "       ...,\n",
              "       [2.0242744e-04, 9.3499979e-04, 1.4273185e-02, ..., 1.4155548e-02,\n",
              "        2.9848781e-08, 1.4892579e-02],\n",
              "       [5.4740749e-08, 3.4925569e-02, 1.6805246e-11, ..., 6.1127590e-05,\n",
              "        5.8472793e-10, 9.9898455e-07],\n",
              "       [2.2562749e-09, 2.4364641e-11, 6.4062629e-22, ..., 1.3353117e-07,\n",
              "        2.7443875e-24, 3.7579054e-10]], dtype=float32)"
            ]
          },
          "metadata": {},
          "execution_count": 19
        }
      ]
    },
    {
      "cell_type": "code",
      "source": [
        "import numpy as np\n",
        "y_pred = np.argmax(y_pred, axis=1)"
      ],
      "metadata": {
        "id": "ARzN0j9hZJXV"
      },
      "execution_count": 20,
      "outputs": []
    },
    {
      "cell_type": "code",
      "source": [
        "y_pred"
      ],
      "metadata": {
        "colab": {
          "base_uri": "https://localhost:8080/"
        },
        "id": "6FA1swSyZf-b",
        "outputId": "e0781c49-ac07-4207-ffce-f41f6e3e07f1"
      },
      "execution_count": 21,
      "outputs": [
        {
          "output_type": "execute_result",
          "data": {
            "text/plain": [
              "array([14,  2, 22, 17,  6,  3, 11, 21,  2,  1,  1, 16, 11, 19,  9, 20,  6,\n",
              "        1,  2, 16,  3,  2, 20,  0,  4, 19,  2, 11, 13, 11, 15, 22,  3, 10,\n",
              "       20,  1,  3, 11,  3,  3, 13, 13, 20,  6,  9, 23, 10, 10, 22,  4, 24,\n",
              "       22,  4,  9, 15,  3, 13, 13,  0,  8,  4, 24, 15, 15, 23, 16,  6,  7,\n",
              "       13, 18, 20,  5,  8,  9, 22, 21, 13, 23, 13, 15, 17, 12,  3, 20,  4,\n",
              "       13,  5, 22,  3,  9,  8, 22, 13, 13, 18,  1,  0, 16, 19,  8, 18,  3,\n",
              "        7, 22, 18, 10, 13, 16,  2,  7, 22, 13,  9,  8,  7,  9, 17, 18,  3,\n",
              "        0,  3,  1,  9,  2,  4, 13, 16,  0, 10,  1, 23,  6, 15,  8,  0, 22,\n",
              "       12,  5,  9, 20, 11,  7, 15,  2,  3,  9, 13, 20,  7, 13, 20,  2,  1,\n",
              "        9,  3,  5,  3,  0, 14, 13, 11, 12,  9, 10, 10,  4, 11, 22, 13, 13,\n",
              "       21,  6, 12, 22,  9, 13,  7, 22,  6,  5,  7, 16, 10,  2, 15, 21, 14,\n",
              "        3,  1, 22, 22,  2,  9,  0,  0,  9, 12,  6,  9,  6, 21, 13,  3, 16,\n",
              "        5, 11, 11,  4, 15,  3,  9,  8,  9,  2, 12,  2,  7,  9, 22, 24, 20,\n",
              "       12, 20,  6,  9, 18,  1, 13, 23,  9, 10,  9,  2, 23,  9,  9, 21, 20,\n",
              "       22,  3, 13, 12,  2, 22,  0, 22,  5,  3,  3, 14,  4, 11,  7,  2,  9,\n",
              "       15,  4, 20,  9,  9,  9, 15, 22, 15, 24,  1, 13, 11, 23,  5,  9, 16,\n",
              "        7, 13, 13,  4,  6, 12,  3,  7, 11,  8,  3, 10,  3, 13,  4,  0,  2,\n",
              "        1, 12, 22, 16, 15, 12, 10,  0, 18,  9, 12,  4, 16, 18, 14, 18, 13,\n",
              "        5, 14,  9, 14, 18,  8, 13,  9, 12,  0,  0, 14, 12, 11,  0, 11,  9,\n",
              "        4, 13,  1,  1, 16, 22, 15,  4, 13, 21, 11, 20, 15, 20,  1,  4, 13,\n",
              "        7, 15,  3,  7,  0, 13,  6, 22, 15, 16, 23,  4, 20, 13, 22, 12,  3,\n",
              "        1,  9, 19, 21])"
            ]
          },
          "metadata": {},
          "execution_count": 21
        }
      ]
    },
    {
      "cell_type": "code",
      "source": [
        "from tensorflow.keras.models import load_model\n",
        "from tensorflow.keras.preprocessing import image"
      ],
      "metadata": {
        "id": "Tj5tw8tnZh56"
      },
      "execution_count": 22,
      "outputs": []
    },
    {
      "cell_type": "code",
      "source": [
        "model=load_model('model_resnet50.h5')"
      ],
      "metadata": {
        "id": "YMT9my11Zs4Z"
      },
      "execution_count": 23,
      "outputs": []
    },
    {
      "cell_type": "code",
      "source": [
        "img_data"
      ],
      "metadata": {
        "colab": {
          "base_uri": "https://localhost:8080/"
        },
        "id": "ixoGg9GIZvmK",
        "outputId": "0d0b1386-eb08-490a-bbe3-40874d1ff641"
      },
      "execution_count": 42,
      "outputs": [
        {
          "output_type": "execute_result",
          "data": {
            "text/plain": [
              "array([[[[-103.06841 , -115.896645, -122.80549 ],\n",
              "         [-103.06841 , -115.896645, -122.80549 ],\n",
              "         [-103.06841 , -115.896645, -122.80549 ],\n",
              "         ...,\n",
              "         [-103.072334, -115.91233 , -122.81333 ],\n",
              "         [-103.072334, -115.91233 , -122.81333 ],\n",
              "         [-103.072334, -115.91233 , -122.81333 ]],\n",
              "\n",
              "        [[-103.06841 , -115.896645, -122.80549 ],\n",
              "         [-103.06841 , -115.896645, -122.80549 ],\n",
              "         [-103.06841 , -115.896645, -122.80549 ],\n",
              "         ...,\n",
              "         [-103.072334, -115.91233 , -122.81333 ],\n",
              "         [-103.072334, -115.91233 , -122.81333 ],\n",
              "         [-103.072334, -115.91233 , -122.81333 ]],\n",
              "\n",
              "        [[-103.06841 , -115.896645, -122.80549 ],\n",
              "         [-103.06841 , -115.896645, -122.80549 ],\n",
              "         [-103.06841 , -115.896645, -122.80549 ],\n",
              "         ...,\n",
              "         [-103.072334, -115.91233 , -122.81333 ],\n",
              "         [-103.072334, -115.91233 , -122.81333 ],\n",
              "         [-103.072334, -115.91233 , -122.81333 ]],\n",
              "\n",
              "        ...,\n",
              "\n",
              "        [[-103.0841  , -115.9437  , -122.848625],\n",
              "         [-103.0841  , -115.9437  , -122.848625],\n",
              "         [-103.0841  , -115.9437  , -122.848625],\n",
              "         ...,\n",
              "         [-103.09194 , -115.98684 , -122.88392 ],\n",
              "         [-103.09194 , -115.98684 , -122.88392 ],\n",
              "         [-103.09194 , -115.98684 , -122.88392 ]],\n",
              "\n",
              "        [[-103.0841  , -115.9437  , -122.848625],\n",
              "         [-103.0841  , -115.9437  , -122.848625],\n",
              "         [-103.0841  , -115.9437  , -122.848625],\n",
              "         ...,\n",
              "         [-103.09194 , -115.98684 , -122.88392 ],\n",
              "         [-103.09194 , -115.98684 , -122.88392 ],\n",
              "         [-103.09194 , -115.98684 , -122.88392 ]],\n",
              "\n",
              "        [[-103.0841  , -115.9437  , -122.848625],\n",
              "         [-103.0841  , -115.9437  , -122.848625],\n",
              "         [-103.0841  , -115.9437  , -122.848625],\n",
              "         ...,\n",
              "         [-103.09194 , -115.98684 , -122.88392 ],\n",
              "         [-103.09194 , -115.98684 , -122.88392 ],\n",
              "         [-103.09194 , -115.98684 , -122.88392 ]]]], dtype=float32)"
            ]
          },
          "metadata": {},
          "execution_count": 42
        }
      ]
    },
    {
      "cell_type": "code",
      "source": [
        "img=image.load_img('/content/logo_data/data/val/Audi/Audi_02e3cd9e-e562-4bfb-8929-3ce838cd4448.jpg_f28bc3d7-26e7-4db6-91d9-5d8927f78fb4.jpg',target_size=(224,224))"
      ],
      "metadata": {
        "id": "w9aIVq40aCDf"
      },
      "execution_count": 36,
      "outputs": []
    },
    {
      "cell_type": "code",
      "source": [
        "x=image.img_to_array(img)\n",
        "x"
      ],
      "metadata": {
        "colab": {
          "base_uri": "https://localhost:8080/"
        },
        "id": "f7eDO8nWafLJ",
        "outputId": "8d8dec52-bb37-4d4b-bbac-e8b4a868be8e"
      },
      "execution_count": 37,
      "outputs": [
        {
          "output_type": "execute_result",
          "data": {
            "text/plain": [
              "array([[[223., 225., 222.],\n",
              "        [223., 225., 222.],\n",
              "        [223., 225., 222.],\n",
              "        ...,\n",
              "        [221., 221., 221.],\n",
              "        [221., 221., 221.],\n",
              "        [221., 221., 221.]],\n",
              "\n",
              "       [[223., 225., 222.],\n",
              "        [223., 225., 222.],\n",
              "        [223., 225., 222.],\n",
              "        ...,\n",
              "        [221., 221., 221.],\n",
              "        [221., 221., 221.],\n",
              "        [221., 221., 221.]],\n",
              "\n",
              "       [[223., 225., 222.],\n",
              "        [223., 225., 222.],\n",
              "        [223., 225., 222.],\n",
              "        ...,\n",
              "        [221., 221., 221.],\n",
              "        [221., 221., 221.],\n",
              "        [221., 221., 221.]],\n",
              "\n",
              "       ...,\n",
              "\n",
              "       [[212., 213., 218.],\n",
              "        [212., 213., 218.],\n",
              "        [212., 213., 218.],\n",
              "        ...,\n",
              "        [203., 202., 216.],\n",
              "        [203., 202., 216.],\n",
              "        [203., 202., 216.]],\n",
              "\n",
              "       [[212., 213., 218.],\n",
              "        [212., 213., 218.],\n",
              "        [212., 213., 218.],\n",
              "        ...,\n",
              "        [203., 202., 216.],\n",
              "        [203., 202., 216.],\n",
              "        [203., 202., 216.]],\n",
              "\n",
              "       [[212., 213., 218.],\n",
              "        [212., 213., 218.],\n",
              "        [212., 213., 218.],\n",
              "        ...,\n",
              "        [203., 202., 216.],\n",
              "        [203., 202., 216.],\n",
              "        [203., 202., 216.]]], dtype=float32)"
            ]
          },
          "metadata": {},
          "execution_count": 37
        }
      ]
    },
    {
      "cell_type": "code",
      "source": [
        "x.shape"
      ],
      "metadata": {
        "colab": {
          "base_uri": "https://localhost:8080/"
        },
        "id": "_RtpGwfWa72f",
        "outputId": "aeb8293f-5c9f-4001-f674-a8ea4bc65e08"
      },
      "execution_count": 30,
      "outputs": [
        {
          "output_type": "execute_result",
          "data": {
            "text/plain": [
              "(224, 224, 3)"
            ]
          },
          "metadata": {},
          "execution_count": 30
        }
      ]
    },
    {
      "cell_type": "code",
      "source": [
        "x=x/255"
      ],
      "metadata": {
        "id": "bcdHnAiWa_Qj"
      },
      "execution_count": 38,
      "outputs": []
    },
    {
      "cell_type": "code",
      "source": [
        "x=np.expand_dims(x,axis=0)\n",
        "img_data=preprocess_input(x)\n",
        "img_data.shape"
      ],
      "metadata": {
        "colab": {
          "base_uri": "https://localhost:8080/"
        },
        "id": "gvty916AbCGH",
        "outputId": "e43b4845-0744-4d2f-ee26-9acf064041b7"
      },
      "execution_count": 39,
      "outputs": [
        {
          "output_type": "execute_result",
          "data": {
            "text/plain": [
              "(1, 224, 224, 3)"
            ]
          },
          "metadata": {},
          "execution_count": 39
        }
      ]
    },
    {
      "cell_type": "code",
      "source": [
        "model.predict(img_data)"
      ],
      "metadata": {
        "colab": {
          "base_uri": "https://localhost:8080/"
        },
        "id": "Xh40JNPZbFCC",
        "outputId": "7efb49de-95fb-451f-8761-6cab250b9870"
      },
      "execution_count": 33,
      "outputs": [
        {
          "output_type": "stream",
          "name": "stdout",
          "text": [
            "1/1 [==============================] - 2s 2s/step\n"
          ]
        },
        {
          "output_type": "execute_result",
          "data": {
            "text/plain": [
              "array([[1.78379358e-15, 4.92119603e-14, 4.50092320e-24, 2.40299338e-24,\n",
              "        2.88387855e-05, 2.01510920e-04, 4.59969574e-09, 2.59840935e-02,\n",
              "        1.22492925e-17, 3.11465863e-22, 1.53190594e-16, 1.02976004e-17,\n",
              "        3.02542247e-31, 9.73694503e-01, 1.14084671e-11, 4.15565738e-18,\n",
              "        2.80695047e-14, 8.97430291e-05, 1.30689318e-06, 4.17909886e-29,\n",
              "        1.48175665e-18, 3.58270739e-11, 2.40497620e-15, 5.43205814e-10,\n",
              "        4.65624930e-17]], dtype=float32)"
            ]
          },
          "metadata": {},
          "execution_count": 33
        }
      ]
    },
    {
      "cell_type": "code",
      "source": [
        "a=np.argmax(model.predict(img_data), axis=1)"
      ],
      "metadata": {
        "colab": {
          "base_uri": "https://localhost:8080/"
        },
        "id": "gHyw8InHbIXF",
        "outputId": "2411456b-0885-46ca-e8f6-c7e357fb3938"
      },
      "execution_count": 40,
      "outputs": [
        {
          "output_type": "stream",
          "name": "stdout",
          "text": [
            "1/1 [==============================] - 0s 21ms/step\n"
          ]
        }
      ]
    },
    {
      "cell_type": "code",
      "source": [
        "a"
      ],
      "metadata": {
        "colab": {
          "base_uri": "https://localhost:8080/"
        },
        "id": "tdfStDT5bNqw",
        "outputId": "e204b9f7-4533-4585-ae58-dfcd6017cca5"
      },
      "execution_count": 41,
      "outputs": [
        {
          "output_type": "execute_result",
          "data": {
            "text/plain": [
              "array([13])"
            ]
          },
          "metadata": {},
          "execution_count": 41
        }
      ]
    },
    {
      "cell_type": "code",
      "source": [],
      "metadata": {
        "id": "-AbeOU1rbTUo"
      },
      "execution_count": null,
      "outputs": []
    }
  ]
}